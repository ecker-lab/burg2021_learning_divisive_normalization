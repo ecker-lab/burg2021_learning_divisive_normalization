{
 "cells": [
  {
   "cell_type": "code",
   "execution_count": null,
   "metadata": {},
   "outputs": [],
   "source": [
    "import datajoint as dj\n",
    "import matplotlib.pyplot as plt\n",
    "import numpy as np\n",
    "import seaborn as sns\n",
    "\n",
    "schema = dj.schema(\"mburg_dnrebuttal_insilico\", locals())\n",
    "dj.config[\"schema_name\"] = \"mburg_dnrebuttal_insilico\"\n",
    "dj.config[\"display.limit\"] = 20\n",
    "dj.config[\"enable_python_native_blobs\"] = True\n",
    "\n",
    "import divisivenormalization.utils as helpers\n",
    "from divisivenormalization.analysis import compute_confidence_interval\n",
    "from divisivenormalization.insilico import (\n",
    "    get_best_run_nums,\n",
    "    CenterSurroundResponses,\n",
    "    OptimalGabor,\n",
    "    CenterSurroundParams,\n",
    "    CenterSurroundStats,\n",
    ")\n",
    "\n",
    "helpers.config_ipython()\n",
    "\n",
    "sns.set()\n",
    "sns.set_style(\"ticks\")\n",
    "font_size = 8\n",
    "rc_dict = {\n",
    "    \"font.size\": font_size,\n",
    "    \"axes.titlesize\": font_size,\n",
    "    \"axes.labelsize\": font_size,\n",
    "    \"xtick.labelsize\": font_size,\n",
    "    \"ytick.labelsize\": font_size,\n",
    "    \"legend.fontsize\": font_size,\n",
    "    \"figure.figsize\": (helpers.cm2inch(8), helpers.cm2inch(8)),\n",
    "    \"figure.dpi\": 300,\n",
    "    \"pdf.fonttype\": 42,\n",
    "    \"savefig.transparent\": True,\n",
    "    \"savefig.bbox_inches\": \"tight\",\n",
    "}\n",
    "sns.set_context(\"paper\", rc=rc_dict)\n",
    "\n",
    "\n",
    "class args:\n",
    "    num_best = 10\n",
    "    canvas_size = [40, 40]\n",
    "    blue = \"xkcd:Blue\"\n",
    "    dark_blue = helpers.darken_color(3, 67, 223, 0.8)\n",
    "\n"
   ]
  },
  {
   "cell_type": "markdown",
   "metadata": {},
   "source": [
    " ### Size-tuning curves"
   ]
  },
  {
   "cell_type": "code",
   "execution_count": null,
   "metadata": {},
   "outputs": [],
   "source": [
    "model_type = \"dn\"\n",
    "run_no = get_best_run_nums(model_type)[0]\n",
    "constraint = dict(model_type=model_type, run_no=run_no)\n",
    "\n",
    "tc_center = (CenterSurroundResponses().Unit() & constraint).fetch(\"tuning_curve_center\", order_by=\"unit_id\")\n",
    "tc_lst = [t for t in tc_center]\n",
    "means = np.mean(tc_lst, axis=0)\n",
    "means_norm = means / np.max(means)\n",
    "\n",
    "# get sizes in deg of visual field\n",
    "key = (OptimalGabor.Unit() & constraint & dict(unit_id=0)).fetch1(dj.key)\n",
    "loc, _, sf, _, ori, phase = OptimalGabor.Unit().params(key)\n",
    "center_set = CenterSurroundParams().center_set(key, args.canvas_size, loc, sf, ori, phase)\n",
    "sizes_px = np.array(center_set.sizes_center) * 2 * center_set.sizes_total[0]\n",
    "sizes = sizes_px / 35  # 35 ppd\n",
    "sizes[0] = 0  # was -0.01 internally for stimulus generation, here we need it for x-axis. Set to correct value.\n",
    "\n",
    "plt.figure(figsize=(helpers.cm2inch(6), helpers.cm2inch(6)))\n",
    "for tc in tc_center:\n",
    "    t = tc\n",
    "    t = t * 1 / np.max(t)\n",
    "    plt.plot(sizes, t, color=\"xkcd:blue\", alpha=0.15)\n",
    "plt.plot(sizes, means_norm, linewidth=2, markersize=4, color=args.dark_blue, linestyle=\"-\")\n",
    "\n",
    "sizes_labels = [0, \"\", \"\", \"\", \"\", \"\", 0.5, \"\", \"\", 0.9, \"\", \"\", 1.8, \"\", 2.8, 3.4]\n",
    "plt.xticks(ticks=sizes, labels=sizes_labels)\n",
    "plt.xlabel(\"Stimulus diameter (deg)\")\n",
    "plt.ylabel(\"Prediction (normalized)\")\n",
    "sns.despine(trim=True, offset=5)\n",
    "plt.tight_layout()\n",
    "plt.show()\n",
    "\n"
   ]
  },
  {
   "cell_type": "markdown",
   "metadata": {},
   "source": [
    " ### Suppression indices for top 10 models on validation set"
   ]
  },
  {
   "cell_type": "code",
   "execution_count": null,
   "metadata": {},
   "outputs": [],
   "source": [
    "model_type = \"dn\"\n",
    "si_lst = []\n",
    "mean_lst = []\n",
    "for best_idx in range(args.num_best):\n",
    "    run_no = get_best_run_nums(model_type)[best_idx]\n",
    "    key = dict(model_type=model_type, run_no=run_no)\n",
    "    si = (CenterSurroundStats.Unit() & key).fetch(\"suppression_index\", order_by=\"unit_id\")\n",
    "    si_lst.append(np.array(si))\n",
    "sis = np.array(si_lst)\n",
    "\n",
    "model_mean = np.mean(sis, 1)\n",
    "mean = np.mean(sis)\n",
    "conf_int = compute_confidence_interval(model_mean)\n",
    "print(\"Mean suppression index\", np.round(mean, 3))\n",
    "print(\"Confidence interval\", np.round(conf_int, 3))\n",
    "print(\"Plus/minus\", np.round(mean - conf_int[0], 3))\n",
    "\n",
    "plt.figure(figsize=(helpers.cm2inch(8), helpers.cm2inch(8 / 8 * 6)))\n",
    "bins = np.arange(0, 1 + 0.05, 0.05)\n",
    "norm_weights = 1 / len(sis.flatten()) * np.ones_like(sis.flatten())\n",
    "plt.hist(sis.flatten(), bins=bins, weights=norm_weights, color=args.blue, edgecolor=\"w\", linewidth=0)\n",
    "\n",
    "plt.xlim(left=0)\n",
    "plt.yticks(np.arange(0, 0.9 + 0.3, 0.3))\n",
    "plt.xlabel(\"Suppression index\")\n",
    "plt.ylabel(\"Proportion (%)\")\n",
    "sns.despine(trim=True, offset=5)\n",
    "plt.tight_layout()\n",
    "plt.show()\n",
    "\n"
   ]
  },
  {
   "cell_type": "markdown",
   "metadata": {},
   "source": [
    " ### Grating summation field (GSF) diameter across the best ten DN models on validation set"
   ]
  },
  {
   "cell_type": "code",
   "execution_count": null,
   "metadata": {},
   "outputs": [],
   "source": [
    "model_type = \"dn\"\n",
    "gsf_lst = []\n",
    "gsf_global_max_lst = []\n",
    "for best_idx in range(args.num_best):\n",
    "    run_no = get_best_run_nums(model_type)[best_idx]\n",
    "    key = dict(model_type=model_type, run_no=run_no)\n",
    "    gsfs = (CenterSurroundStats.Unit() & key).fetch(\"gsf_pixel\")\n",
    "    gsfs_global_max = (CenterSurroundStats.Unit() & key).fetch(\"gsf_global_max_pixel\")\n",
    "    gsf_lst.append(np.array(gsfs))\n",
    "    gsf_global_max_lst.append(np.array(gsfs_global_max))\n",
    "gsf_arr = 2 * np.array(gsf_lst) / 35  # diameter instead of radius, convert to deg of visual field (35 ppd)\n",
    "gsf_global_max_arr = 2 * np.array(gsf_global_max_lst) / 35\n",
    "\n",
    "print(\"Mean grating summation field diameter:\", np.round(gsf_arr.mean(), 2), \"deg\")\n",
    "\n"
   ]
  },
  {
   "cell_type": "code",
   "execution_count": null,
   "metadata": {},
   "outputs": [],
   "source": []
  }
 ],
 "metadata": {
  "kernelspec": {
   "display_name": "Python 3",
   "language": "python",
   "name": "python3"
  },
  "language_info": {
   "codemirror_mode": {
    "name": "ipython",
    "version": 3
   },
   "file_extension": ".py",
   "mimetype": "text/x-python",
   "name": "python",
   "nbconvert_exporter": "python",
   "pygments_lexer": "ipython3",
   "version": "3.7.9"
  }
 },
 "nbformat": 4,
 "nbformat_minor": 4
}
